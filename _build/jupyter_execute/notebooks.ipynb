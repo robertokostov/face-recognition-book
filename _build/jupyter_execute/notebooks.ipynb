{
 "cells": [
  {
   "cell_type": "markdown",
   "metadata": {},
   "source": [
    "# Програма"
   ]
  },
  {
   "cell_type": "markdown",
   "metadata": {
    "id": "2ox-mC9UTPk9"
   },
   "source": [
    "Описот на целосната постапка е вклучен во Jupyter книгата, па коментари околу кодот во Notebook-от се одлучивме да не вклучуваме."
   ]
  },
  {
   "cell_type": "code",
   "execution_count": 1,
   "metadata": {
    "id": "2kY5CYcO4k0C"
   },
   "outputs": [],
   "source": [
    "import cv2\n",
    "import dlib\n",
    "import numpy as np"
   ]
  },
  {
   "cell_type": "code",
   "execution_count": 2,
   "metadata": {
    "id": "I58hL1D64796"
   },
   "outputs": [],
   "source": [
    "def extract_index_nparray(nparray):\n",
    "    index = None\n",
    "\n",
    "    for num in nparray[0]:\n",
    "        index = num\n",
    "        break\n",
    "\n",
    "    return index"
   ]
  },
  {
   "cell_type": "code",
   "execution_count": 3,
   "metadata": {
    "id": "3-hgEeg64-FZ"
   },
   "outputs": [],
   "source": [
    "img1 = cv2.imread(\"media/736px-Josip_Broz_Tito_uniform_portrait.jpg\")\n",
    "img2 = cv2.imread(\"media/768px-Queen_Elizabeth_II_of_New_Zealand_(cropped).jpg\")\n",
    "\n",
    "img1_gray = cv2.cvtColor(img1, cv2.COLOR_BGR2GRAY)\n",
    "img2_gray = cv2.cvtColor(img2, cv2.COLOR_BGR2GRAY)\n",
    "\n",
    "mask = np.zeros_like(img1_gray)"
   ]
  },
  {
   "cell_type": "code",
   "execution_count": 4,
   "metadata": {
    "colab": {
     "base_uri": "https://localhost:8080/"
    },
    "id": "56wLcaNj5UTb",
    "outputId": "c7ae585e-994d-4aa7-eecf-a80b657777d5"
   },
   "outputs": [
    {
     "name": "stdout",
     "output_type": "stream",
     "text": [
      "--2021-07-05 02:00:48--  https://github.com/JeffTrain/selfie/raw/master/shape_predictor_68_face_landmarks.dat\r\n",
      "Loaded CA certificate '/etc/ssl/certs/ca-certificates.crt'\r\n",
      "Resolving github.com (github.com)... 140.82.121.3\r\n",
      "Connecting to github.com (github.com)|140.82.121.3|:443... "
     ]
    },
    {
     "name": "stdout",
     "output_type": "stream",
     "text": [
      "connected.\r\n"
     ]
    },
    {
     "name": "stdout",
     "output_type": "stream",
     "text": [
      "HTTP request sent, awaiting response... "
     ]
    },
    {
     "name": "stdout",
     "output_type": "stream",
     "text": [
      "302 Found\r\n",
      "Location: https://raw.githubusercontent.com/JeffTrain/selfie/master/shape_predictor_68_face_landmarks.dat [following]\r\n",
      "--2021-07-05 02:00:48--  https://raw.githubusercontent.com/JeffTrain/selfie/master/shape_predictor_68_face_landmarks.dat\r\n",
      "Resolving raw.githubusercontent.com (raw.githubusercontent.com)... 185.199.108.133, 185.199.110.133, 185.199.111.133, ...\r\n",
      "Connecting to raw.githubusercontent.com (raw.githubusercontent.com)|185.199.108.133|:443... "
     ]
    },
    {
     "name": "stdout",
     "output_type": "stream",
     "text": [
      "connected.\r\n"
     ]
    },
    {
     "name": "stdout",
     "output_type": "stream",
     "text": [
      "HTTP request sent, awaiting response... "
     ]
    },
    {
     "name": "stdout",
     "output_type": "stream",
     "text": [
      "200 OK\r\n",
      "Length: 99693937 (95M) [application/octet-stream]\r\n",
      "Saving to: 'shape_predictor_68_face_landmarks.dat.3'\r\n",
      "\r\n",
      "\r",
      "          shape_pre   0%[                    ]       0  --.-KB/s               "
     ]
    },
    {
     "name": "stdout",
     "output_type": "stream",
     "text": [
      "\r",
      "         shape_pred   0%[                    ] 731.00K  3.49MB/s               "
     ]
    },
    {
     "name": "stdout",
     "output_type": "stream",
     "text": [
      "\r",
      "        shape_predi   1%[                    ]   1.51M  3.70MB/s               "
     ]
    },
    {
     "name": "stdout",
     "output_type": "stream",
     "text": [
      "\r",
      "       shape_predic   2%[                    ]   2.43M  3.86MB/s               "
     ]
    },
    {
     "name": "stdout",
     "output_type": "stream",
     "text": [
      "\r",
      "      shape_predict   3%[                    ]   3.59M  4.29MB/s               "
     ]
    },
    {
     "name": "stdout",
     "output_type": "stream",
     "text": [
      "\r",
      "     shape_predicto   5%[>                   ]   4.79M  4.62MB/s               "
     ]
    },
    {
     "name": "stdout",
     "output_type": "stream",
     "text": [
      "\r",
      "    shape_predictor   6%[>                   ]   6.06M  4.88MB/s               "
     ]
    },
    {
     "name": "stdout",
     "output_type": "stream",
     "text": [
      "\r",
      "   shape_predictor_   7%[>                   ]   7.31M  5.05MB/s               "
     ]
    },
    {
     "name": "stdout",
     "output_type": "stream",
     "text": [
      "\r",
      "  shape_predictor_6   9%[>                   ]   8.70M  5.24MB/s               "
     ]
    },
    {
     "name": "stdout",
     "output_type": "stream",
     "text": [
      "\r",
      " shape_predictor_68  10%[=>                  ]   9.93M  5.34MB/s               "
     ]
    },
    {
     "name": "stdout",
     "output_type": "stream",
     "text": [
      "\r",
      "shape_predictor_68_  11%[=>                  ]  11.31M  5.49MB/s               "
     ]
    },
    {
     "name": "stdout",
     "output_type": "stream",
     "text": [
      "\r",
      "hape_predictor_68_f  13%[=>                  ]  12.67M  5.59MB/s               "
     ]
    },
    {
     "name": "stdout",
     "output_type": "stream",
     "text": [
      "\r",
      "ape_predictor_68_fa  14%[=>                  ]  14.04M  5.68MB/s               "
     ]
    },
    {
     "name": "stdout",
     "output_type": "stream",
     "text": [
      "\r",
      "pe_predictor_68_fac  16%[==>                 ]  15.35M  5.74MB/s               "
     ]
    },
    {
     "name": "stdout",
     "output_type": "stream",
     "text": [
      "\r",
      "e_predictor_68_face  17%[==>                 ]  16.68M  5.80MB/s               "
     ]
    },
    {
     "name": "stdout",
     "output_type": "stream",
     "text": [
      "\r",
      "_predictor_68_face_  18%[==>                 ]  17.96M  5.84MB/s    eta 13s    "
     ]
    },
    {
     "name": "stdout",
     "output_type": "stream",
     "text": [
      "\r",
      "predictor_68_face_l  20%[===>                ]  19.20M  6.01MB/s    eta 13s    "
     ]
    },
    {
     "name": "stdout",
     "output_type": "stream",
     "text": [
      "\r",
      "redictor_68_face_la  21%[===>                ]  20.24M  6.03MB/s    eta 13s    "
     ]
    },
    {
     "name": "stdout",
     "output_type": "stream",
     "text": [
      "\r",
      "edictor_68_face_lan  22%[===>                ]  21.31M  6.04MB/s    eta 13s    "
     ]
    },
    {
     "name": "stdout",
     "output_type": "stream",
     "text": [
      "\r",
      "dictor_68_face_land  23%[===>                ]  22.46M  6.12MB/s    eta 13s    "
     ]
    },
    {
     "name": "stdout",
     "output_type": "stream",
     "text": [
      "\r",
      "ictor_68_face_landm  25%[====>               ]  23.78M  6.21MB/s    eta 12s    "
     ]
    },
    {
     "name": "stdout",
     "output_type": "stream",
     "text": [
      "\r",
      "ctor_68_face_landma  26%[====>               ]  24.92M  6.14MB/s    eta 12s    "
     ]
    },
    {
     "name": "stdout",
     "output_type": "stream",
     "text": [
      "\r",
      "tor_68_face_landmar  27%[====>               ]  25.88M  6.09MB/s    eta 12s    "
     ]
    },
    {
     "name": "stdout",
     "output_type": "stream",
     "text": [
      "\r",
      "or_68_face_landmark  28%[====>               ]  26.87M  5.96MB/s    eta 12s    "
     ]
    },
    {
     "name": "stdout",
     "output_type": "stream",
     "text": [
      "\r",
      "r_68_face_landmarks  29%[====>               ]  27.84M  5.88MB/s    eta 12s    "
     ]
    },
    {
     "name": "stdout",
     "output_type": "stream",
     "text": [
      "\r",
      "_68_face_landmarks.  30%[=====>              ]  28.85M  5.80MB/s    eta 12s    "
     ]
    },
    {
     "name": "stdout",
     "output_type": "stream",
     "text": [
      "\r",
      "68_face_landmarks.d  31%[=====>              ]  29.85M  5.64MB/s    eta 12s    "
     ]
    },
    {
     "name": "stdout",
     "output_type": "stream",
     "text": [
      "\r",
      "8_face_landmarks.da  32%[=====>              ]  30.84M  5.57MB/s    eta 12s    "
     ]
    },
    {
     "name": "stdout",
     "output_type": "stream",
     "text": [
      "\r",
      "_face_landmarks.dat  33%[=====>              ]  31.84M  5.46MB/s    eta 12s    "
     ]
    },
    {
     "name": "stdout",
     "output_type": "stream",
     "text": [
      "\r",
      "face_landmarks.dat.  34%[=====>              ]  32.82M  5.30MB/s    eta 12s    "
     ]
    },
    {
     "name": "stdout",
     "output_type": "stream",
     "text": [
      "\r",
      "ace_landmarks.dat.3  35%[======>             ]  33.82M  5.23MB/s    eta 11s    "
     ]
    },
    {
     "name": "stdout",
     "output_type": "stream",
     "text": [
      "\r",
      "ce_landmarks.dat.3   36%[======>             ]  34.81M  5.15MB/s    eta 11s    "
     ]
    },
    {
     "name": "stdout",
     "output_type": "stream",
     "text": [
      "\r",
      "e_landmarks.dat.3    37%[======>             ]  35.79M  5.09MB/s    eta 11s    "
     ]
    },
    {
     "name": "stdout",
     "output_type": "stream",
     "text": [
      "\r",
      "_landmarks.dat.3     38%[======>             ]  36.78M  5.06MB/s    eta 11s    "
     ]
    },
    {
     "name": "stdout",
     "output_type": "stream",
     "text": [
      "\r",
      "landmarks.dat.3      39%[======>             ]  37.76M  5.03MB/s    eta 11s    "
     ]
    },
    {
     "name": "stdout",
     "output_type": "stream",
     "text": [
      "\r",
      "andmarks.dat.3       40%[=======>            ]  38.73M  4.95MB/s    eta 10s    "
     ]
    },
    {
     "name": "stdout",
     "output_type": "stream",
     "text": [
      "\r",
      "ndmarks.dat.3        41%[=======>            ]  39.68M  4.86MB/s    eta 10s    "
     ]
    },
    {
     "name": "stdout",
     "output_type": "stream",
     "text": [
      "\r",
      "dmarks.dat.3         42%[=======>            ]  40.68M  4.87MB/s    eta 10s    "
     ]
    },
    {
     "name": "stdout",
     "output_type": "stream",
     "text": [
      "\r",
      "marks.dat.3          43%[=======>            ]  41.63M  4.87MB/s    eta 10s    "
     ]
    },
    {
     "name": "stdout",
     "output_type": "stream",
     "text": [
      "\r",
      "arks.dat.3           44%[=======>            ]  42.57M  4.85MB/s    eta 10s    "
     ]
    },
    {
     "name": "stdout",
     "output_type": "stream",
     "text": [
      "\r",
      "rks.dat.3            45%[========>           ]  43.57M  4.86MB/s    eta 10s    "
     ]
    },
    {
     "name": "stdout",
     "output_type": "stream",
     "text": [
      "\r",
      "ks.dat.3             46%[========>           ]  44.56M  4.85MB/s    eta 10s    "
     ]
    },
    {
     "name": "stdout",
     "output_type": "stream",
     "text": [
      "\r",
      "s.dat.3              47%[========>           ]  45.56M  4.86MB/s    eta 10s    "
     ]
    },
    {
     "name": "stdout",
     "output_type": "stream",
     "text": [
      "\r",
      ".dat.3               48%[========>           ]  46.53M  4.85MB/s    eta 10s    "
     ]
    },
    {
     "name": "stdout",
     "output_type": "stream",
     "text": [
      "\r",
      "dat.3                49%[========>           ]  47.51M  4.85MB/s    eta 10s    "
     ]
    },
    {
     "name": "stdout",
     "output_type": "stream",
     "text": [
      "\r",
      "at.3                 51%[=========>          ]  48.53M  4.85MB/s    eta 9s     "
     ]
    },
    {
     "name": "stdout",
     "output_type": "stream",
     "text": [
      "\r",
      "t.3                  52%[=========>          ]  49.54M  4.86MB/s    eta 9s     "
     ]
    },
    {
     "name": "stdout",
     "output_type": "stream",
     "text": [
      "\r",
      ".3                   53%[=========>          ]  50.57M  4.89MB/s    eta 9s     "
     ]
    },
    {
     "name": "stdout",
     "output_type": "stream",
     "text": [
      "\r",
      "3                    54%[=========>          ]  51.62M  4.90MB/s    eta 9s     "
     ]
    },
    {
     "name": "stdout",
     "output_type": "stream",
     "text": [
      "\r",
      "                     55%[==========>         ]  52.59M  4.90MB/s    eta 9s     "
     ]
    },
    {
     "name": "stdout",
     "output_type": "stream",
     "text": [
      "\r",
      "                  s  56%[==========>         ]  53.60M  4.76MB/s    eta 8s     "
     ]
    },
    {
     "name": "stdout",
     "output_type": "stream",
     "text": [
      "\r",
      "                 sh  56%[==========>         ]  53.88M  4.54MB/s    eta 8s     "
     ]
    },
    {
     "name": "stdout",
     "output_type": "stream",
     "text": [
      "\r",
      "                sha  57%[==========>         ]  54.92M  4.56MB/s    eta 8s     "
     ]
    },
    {
     "name": "stdout",
     "output_type": "stream",
     "text": [
      "\r",
      "               shap  58%[==========>         ]  55.92M  4.55MB/s    eta 8s     "
     ]
    },
    {
     "name": "stdout",
     "output_type": "stream",
     "text": [
      "\r",
      "              shape  59%[==========>         ]  56.95M  4.58MB/s    eta 8s     "
     ]
    },
    {
     "name": "stdout",
     "output_type": "stream",
     "text": [
      "\r",
      "             shape_  60%[===========>        ]  57.96M  4.60MB/s    eta 7s     "
     ]
    },
    {
     "name": "stdout",
     "output_type": "stream",
     "text": [
      "\r",
      "            shape_p  62%[===========>        ]  58.98M  4.60MB/s    eta 7s     "
     ]
    },
    {
     "name": "stdout",
     "output_type": "stream",
     "text": [
      "\r",
      "           shape_pr  63%[===========>        ]  59.96M  4.60MB/s    eta 7s     "
     ]
    },
    {
     "name": "stdout",
     "output_type": "stream",
     "text": [
      "\r",
      "          shape_pre  63%[===========>        ]  60.82M  4.56MB/s    eta 7s     "
     ]
    },
    {
     "name": "stdout",
     "output_type": "stream",
     "text": [
      "\r",
      "         shape_pred  64%[===========>        ]  61.68M  4.52MB/s    eta 7s     "
     ]
    },
    {
     "name": "stdout",
     "output_type": "stream",
     "text": [
      "\r",
      "        shape_predi  65%[============>       ]  62.56M  4.49MB/s    eta 6s     "
     ]
    },
    {
     "name": "stdout",
     "output_type": "stream",
     "text": [
      "\r",
      "       shape_predic  66%[============>       ]  63.32M  4.41MB/s    eta 6s     "
     ]
    },
    {
     "name": "stdout",
     "output_type": "stream",
     "text": [
      "\r",
      "      shape_predict  67%[============>       ]  64.18M  4.34MB/s    eta 6s     "
     ]
    },
    {
     "name": "stdout",
     "output_type": "stream",
     "text": [
      "\r",
      "     shape_predicto  68%[============>       ]  64.98M  4.28MB/s    eta 6s     "
     ]
    },
    {
     "name": "stdout",
     "output_type": "stream",
     "text": [
      "\r",
      "    shape_predictor  69%[============>       ]  65.87M  4.24MB/s    eta 6s     "
     ]
    },
    {
     "name": "stdout",
     "output_type": "stream",
     "text": [
      "\r",
      "   shape_predictor_  70%[=============>      ]  66.87M  4.22MB/s    eta 6s     "
     ]
    },
    {
     "name": "stdout",
     "output_type": "stream",
     "text": [
      "\r",
      "  shape_predictor_6  71%[=============>      ]  67.60M  4.46MB/s    eta 6s     "
     ]
    },
    {
     "name": "stdout",
     "output_type": "stream",
     "text": [
      "\r",
      " shape_predictor_68  72%[=============>      ]  68.53M  4.51MB/s    eta 6s     "
     ]
    },
    {
     "name": "stdout",
     "output_type": "stream",
     "text": [
      "\r",
      "shape_predictor_68_  72%[=============>      ]  69.31M  4.40MB/s    eta 6s     "
     ]
    },
    {
     "name": "stdout",
     "output_type": "stream",
     "text": [
      "\r",
      "hape_predictor_68_f  73%[=============>      ]  70.31M  4.39MB/s    eta 6s     "
     ]
    },
    {
     "name": "stdout",
     "output_type": "stream",
     "text": [
      "\r",
      "ape_predictor_68_fa  75%[==============>     ]  71.31M  4.39MB/s    eta 5s     "
     ]
    },
    {
     "name": "stdout",
     "output_type": "stream",
     "text": [
      "\r",
      "pe_predictor_68_fac  76%[==============>     ]  72.34M  4.38MB/s    eta 5s     "
     ]
    },
    {
     "name": "stdout",
     "output_type": "stream",
     "text": [
      "\r",
      "e_predictor_68_face  77%[==============>     ]  73.34M  4.39MB/s    eta 5s     "
     ]
    },
    {
     "name": "stdout",
     "output_type": "stream",
     "text": [
      "\r",
      "_predictor_68_face_  78%[==============>     ]  74.37M  4.41MB/s    eta 5s     "
     ]
    },
    {
     "name": "stdout",
     "output_type": "stream",
     "text": [
      "\r",
      "predictor_68_face_l  79%[==============>     ]  75.37M  4.45MB/s    eta 5s     "
     ]
    },
    {
     "name": "stdout",
     "output_type": "stream",
     "text": [
      "\r",
      "redictor_68_face_la  80%[===============>    ]  76.24M  4.47MB/s    eta 4s     "
     ]
    },
    {
     "name": "stdout",
     "output_type": "stream",
     "text": [
      "\r",
      "edictor_68_face_lan  81%[===============>    ]  77.13M  4.48MB/s    eta 4s     "
     ]
    },
    {
     "name": "stdout",
     "output_type": "stream",
     "text": [
      "\r",
      "dictor_68_face_land  82%[===============>    ]  78.01M  4.50MB/s    eta 4s     "
     ]
    },
    {
     "name": "stdout",
     "output_type": "stream",
     "text": [
      "\r",
      "ictor_68_face_landm  83%[===============>    ]  79.03M  4.58MB/s    eta 4s     "
     ]
    },
    {
     "name": "stdout",
     "output_type": "stream",
     "text": [
      "\r",
      "ctor_68_face_landma  84%[===============>    ]  80.03M  4.61MB/s    eta 4s     "
     ]
    },
    {
     "name": "stdout",
     "output_type": "stream",
     "text": [
      "\r",
      "tor_68_face_landmar  85%[================>   ]  80.99M  4.63MB/s    eta 3s     "
     ]
    },
    {
     "name": "stdout",
     "output_type": "stream",
     "text": [
      "\r",
      "or_68_face_landmark  86%[================>   ]  81.98M  4.67MB/s    eta 3s     "
     ]
    },
    {
     "name": "stdout",
     "output_type": "stream",
     "text": [
      "\r",
      "r_68_face_landmarks  87%[================>   ]  82.95M  4.71MB/s    eta 3s     "
     ]
    },
    {
     "name": "stdout",
     "output_type": "stream",
     "text": [
      "\r",
      "_68_face_landmarks.  88%[================>   ]  83.92M  4.80MB/s    eta 3s     "
     ]
    },
    {
     "name": "stdout",
     "output_type": "stream",
     "text": [
      "\r",
      "68_face_landmarks.d  89%[================>   ]  84.90M  4.81MB/s    eta 3s     "
     ]
    },
    {
     "name": "stdout",
     "output_type": "stream",
     "text": [
      "\r",
      "8_face_landmarks.da  90%[=================>  ]  85.88M  4.82MB/s    eta 2s     "
     ]
    },
    {
     "name": "stdout",
     "output_type": "stream",
     "text": [
      "\r",
      "_face_landmarks.dat  91%[=================>  ]  86.88M  4.80MB/s    eta 2s     "
     ]
    },
    {
     "name": "stdout",
     "output_type": "stream",
     "text": [
      "\r",
      "face_landmarks.dat.  92%[=================>  ]  87.85M  4.80MB/s    eta 2s     "
     ]
    },
    {
     "name": "stdout",
     "output_type": "stream",
     "text": [
      "\r",
      "ace_landmarks.dat.3  93%[=================>  ]  88.84M  4.80MB/s    eta 2s     "
     ]
    },
    {
     "name": "stdout",
     "output_type": "stream",
     "text": [
      "\r",
      "ce_landmarks.dat.3   94%[=================>  ]  89.82M  4.76MB/s    eta 2s     "
     ]
    },
    {
     "name": "stdout",
     "output_type": "stream",
     "text": [
      "\r",
      "e_landmarks.dat.3    95%[==================> ]  90.82M  4.77MB/s    eta 1s     "
     ]
    },
    {
     "name": "stdout",
     "output_type": "stream",
     "text": [
      "\r",
      "_landmarks.dat.3     96%[==================> ]  91.81M  4.79MB/s    eta 1s     "
     ]
    },
    {
     "name": "stdout",
     "output_type": "stream",
     "text": [
      "\r",
      "landmarks.dat.3      97%[==================> ]  92.81M  4.87MB/s    eta 1s     "
     ]
    },
    {
     "name": "stdout",
     "output_type": "stream",
     "text": [
      "\r",
      "andmarks.dat.3       98%[==================> ]  93.81M  4.86MB/s    eta 1s     "
     ]
    },
    {
     "name": "stdout",
     "output_type": "stream",
     "text": [
      "\r",
      "ndmarks.dat.3        99%[==================> ]  94.79M  4.88MB/s    eta 1s     "
     ]
    },
    {
     "name": "stdout",
     "output_type": "stream",
     "text": [
      "\r",
      "shape_predictor_68_ 100%[===================>]  95.08M  4.88MB/s    in 19s     \r\n",
      "\r\n",
      "2021-07-05 02:01:08 (4.94 MB/s) - 'shape_predictor_68_face_landmarks.dat.3' saved [99693937/99693937]\r\n",
      "\r\n"
     ]
    }
   ],
   "source": [
    "!wget -nd https://github.com/JeffTrain/selfie/raw/master/shape_predictor_68_face_landmarks.dat;"
   ]
  },
  {
   "cell_type": "code",
   "execution_count": 5,
   "metadata": {
    "id": "8mYdQr5c5CiR"
   },
   "outputs": [],
   "source": [
    "detector = dlib.get_frontal_face_detector()\n",
    "predictor = dlib.shape_predictor(\"shape_predictor_68_face_landmarks.dat\")"
   ]
  },
  {
   "cell_type": "code",
   "execution_count": 6,
   "metadata": {
    "id": "xa1c-5ti5m3J"
   },
   "outputs": [],
   "source": [
    "faces = detector(img1_gray)\n",
    "for face in faces:\n",
    "    landmarks = predictor(img1_gray, face)\n",
    "    landmarks_points1 = []\n",
    "    for n in range(0, 68):\n",
    "        x = landmarks.part(n).x\n",
    "        y = landmarks.part(n).y\n",
    "        landmarks_points1.append((x, y))\n",
    "\n",
    "    points = np.array(landmarks_points1, np.int32)\n",
    "    convexhull = cv2.convexHull(points)\n",
    "    cv2.fillConvexPoly(mask, convexhull, 255)\n",
    "\n",
    "    rect = cv2.boundingRect(convexhull)\n",
    "    subdiv = cv2.Subdiv2D(rect)\n",
    "    subdiv.insert(landmarks_points1)\n",
    "    triangles = subdiv.getTriangleList()\n",
    "    triangles = np.array(triangles, dtype=np.int32)\n",
    "\n",
    "    indexes_triangles = []\n",
    "    for t in triangles:\n",
    "        pt1 = t[0], t[1]\n",
    "        pt2 = t[2], t[3]\n",
    "        pt3 = t[4], t[5]\n",
    "\n",
    "        index_pt1 = np.where((points == pt1).all(axis=1))\n",
    "        index_pt1 = extract_index_nparray(index_pt1)\n",
    "\n",
    "        index_pt2 = np.where((points == pt2).all(axis=1))\n",
    "        index_pt2 = extract_index_nparray(index_pt2)\n",
    "\n",
    "        index_pt3 = np.where((points == pt3).all(axis=1))\n",
    "        index_pt3 = extract_index_nparray(index_pt3)\n",
    "\n",
    "        if index_pt1 is not None and index_pt2 is not None and index_pt3 is not None:\n",
    "            triangle = [index_pt1, index_pt2, index_pt3]\n",
    "            indexes_triangles.append(triangle)"
   ]
  },
  {
   "cell_type": "code",
   "execution_count": 7,
   "metadata": {
    "id": "HEd38qRe5oVp"
   },
   "outputs": [],
   "source": [
    "faces2 = detector(img2_gray)\n",
    "for face in faces2:\n",
    "    landmarks = predictor(img2_gray, face)\n",
    "    landmarks_points2 = []\n",
    "    for n in range(0, 68):\n",
    "        x = landmarks.part(n).x\n",
    "        y = landmarks.part(n).y\n",
    "        landmarks_points2.append((x, y))"
   ]
  },
  {
   "cell_type": "code",
   "execution_count": 8,
   "metadata": {
    "id": "s768Oo0f5uaU"
   },
   "outputs": [],
   "source": [
    "img2_new_face = np.zeros((1024, 768, 3), np.uint8)\n",
    "\n",
    "for triangle_index in indexes_triangles:\n",
    "    pt1_1 = landmarks_points1[triangle_index[0]]\n",
    "    pt2_1 = landmarks_points1[triangle_index[1]]\n",
    "    pt3_1 = landmarks_points1[triangle_index[2]]\n",
    "\n",
    "    tr1 = np.array([pt1_1, pt2_1, pt3_1], np.int32)\n",
    "    rect1 = cv2.boundingRect(tr1)\n",
    "    x, y, w, h = rect1\n",
    "    cropped_triangle1 = img1[y: y + h, x: x + w]\n",
    "    cropped_tr1_mask = np.zeros((h, w), np.uint8)\n",
    "\n",
    "    points1 = np.array([[pt1_1[0] - x, pt1_1[1] - y], [pt2_1[0] - x, pt2_1[1] - y], [pt3_1[0] - x, pt3_1[1] - y]],\n",
    "                       np.int32)\n",
    "    cv2.fillConvexPoly(cropped_tr1_mask, points1, 255)\n",
    "    cropped_triangle1 = cv2.bitwise_and(cropped_triangle1, cropped_triangle1, mask=cropped_tr1_mask)\n",
    "\n",
    "    pt1_2 = landmarks_points2[triangle_index[0]]\n",
    "    pt2_2 = landmarks_points2[triangle_index[1]]\n",
    "    pt3_2 = landmarks_points2[triangle_index[2]]\n",
    "\n",
    "    tr2 = np.array([pt1_2, pt2_2, pt3_2], np.int32)\n",
    "    rect2 = cv2.boundingRect(tr2)\n",
    "    x, y, w, h = rect2\n",
    "    cropped_triangle2 = img2[y: y + h, x: x + w]\n",
    "    cropped_tr2_mask = np.zeros((h, w), np.uint8)\n",
    "\n",
    "    points2 = np.array([[pt1_2[0] - x, pt1_2[1] - y], [pt2_2[0] - x, pt2_2[1] - y], [pt3_2[0] - x, pt3_2[1] - y]],\n",
    "                       np.int32)\n",
    "    cv2.fillConvexPoly(cropped_tr2_mask, points2, 255)\n",
    "    cropped_triangle2 = cv2.bitwise_and(cropped_triangle2, cropped_triangle2, mask=cropped_tr2_mask)\n",
    "\n",
    "    points1 = np.float32(points1)\n",
    "    points2 = np.float32(points2)\n",
    "\n",
    "    M = cv2.getAffineTransform(points1, points2)\n",
    "\n",
    "    warped_triangle = cv2.warpAffine(cropped_triangle1, M, (w, h))\n",
    "    warped_triangle = cv2.bitwise_and(warped_triangle, warped_triangle, mask=cropped_tr2_mask)\n",
    "\n",
    "    img2_new_face_rect_area = img2_new_face[y: y + h, x: x + w]\n",
    "    img2_new_face_rect_area_gray = cv2.cvtColor(img2_new_face_rect_area, cv2.COLOR_BGR2GRAY)\n",
    "\n",
    "    # _, mask_triangles_designed = cv2.threshold(img2_new_face_rect_area_gray, 64, 255, cv2.THRESH_BINARY_INV)\n",
    "    # warped_triangle = cv2.bitwise_and(warped_triangle, warped_triangle, mask=mask_triangles_designed)\n",
    "\n",
    "    img2_new_face_rect_area = cv2.add(img2_new_face_rect_area, warped_triangle)\n",
    "    img2_new_face[y: y + h, x: x + w] = img2_new_face_rect_area"
   ]
  },
  {
   "cell_type": "code",
   "execution_count": 9,
   "metadata": {
    "id": "CwucbhNJ5w6Z"
   },
   "outputs": [],
   "source": [
    "convexhull2 = cv2.convexHull(np.array(landmarks_points2, np.int32))\n",
    "img2_face_mask = np.zeros_like(img2_gray)\n",
    "img2_head_mask = cv2.fillConvexPoly(img2_face_mask, convexhull2, 255)\n",
    "\n",
    "img2_face_mask = cv2.bitwise_not(img2_head_mask)\n",
    "img2_head_noface = cv2.bitwise_and(img2, img2, mask=img2_face_mask)\n",
    "\n",
    "result = cv2.add(img2_head_noface, img2_new_face)"
   ]
  },
  {
   "cell_type": "code",
   "execution_count": 10,
   "metadata": {
    "id": "c2jbOmSN50ES"
   },
   "outputs": [],
   "source": [
    "x, y, w, h = cv2.boundingRect(convexhull2)\n",
    "center_face2 = int((x + x + w) / 2), int((y + y + h) / 2)\n",
    "seamlessclone = cv2.seamlessClone(result, img2, img2_head_mask, center_face2, cv2.MIXED_CLONE)"
   ]
  },
  {
   "cell_type": "code",
   "execution_count": 11,
   "metadata": {
    "colab": {
     "base_uri": "https://localhost:8080/",
     "height": 1000
    },
    "id": "LwmUz0Yw57MG",
    "outputId": "9b90d11e-32fb-4a50-9166-7410d0c77cce"
   },
   "outputs": [],
   "source": [
    "cv2.imshow(\"End result\", seamlessclone)"
   ]
  }
 ],
 "metadata": {
  "colab": {
   "collapsed_sections": [],
   "name": "face_swapping_code.ipynb",
   "provenance": []
  },
  "kernelspec": {
   "display_name": "face-recognition-project",
   "language": "python",
   "name": "face-recognition-project"
  },
  "language_info": {
   "codemirror_mode": {
    "name": "ipython",
    "version": 3
   },
   "file_extension": ".py",
   "mimetype": "text/x-python",
   "name": "python",
   "nbconvert_exporter": "python",
   "pygments_lexer": "ipython3",
   "version": "3.9.5"
  }
 },
 "nbformat": 4,
 "nbformat_minor": 1
}