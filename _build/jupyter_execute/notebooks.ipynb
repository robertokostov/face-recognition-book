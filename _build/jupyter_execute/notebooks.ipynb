{
 "cells": [
  {
   "cell_type": "markdown",
   "metadata": {},
   "source": [
    "# Програма"
   ]
  },
  {
   "cell_type": "markdown",
   "metadata": {
    "id": "2ox-mC9UTPk9"
   },
   "source": [
    "Описот на целосната постапка е вклучен во Jupyter книгата, па коментари околу кодот во Notebook-от се одлучивме да не вклучуваме."
   ]
  },
  {
   "cell_type": "code",
   "execution_count": 1,
   "metadata": {
    "id": "2kY5CYcO4k0C"
   },
   "outputs": [],
   "source": [
    "import cv2\n",
    "import dlib\n",
    "import numpy as np"
   ]
  },
  {
   "cell_type": "code",
   "execution_count": 2,
   "metadata": {
    "id": "I58hL1D64796"
   },
   "outputs": [],
   "source": [
    "def extract_index_nparray(nparray):\n",
    "    index = None\n",
    "\n",
    "    for num in nparray[0]:\n",
    "        index = num\n",
    "        break\n",
    "\n",
    "    return index"
   ]
  },
  {
   "cell_type": "code",
   "execution_count": 3,
   "metadata": {
    "id": "3-hgEeg64-FZ"
   },
   "outputs": [],
   "source": [
    "img1 = cv2.imread(\"media/736px-Josip_Broz_Tito_uniform_portrait.jpg\")\n",
    "img2 = cv2.imread(\"media/768px-Queen_Elizabeth_II_of_New_Zealand_(cropped).jpg\")\n",
    "\n",
    "img1_gray = cv2.cvtColor(img1, cv2.COLOR_BGR2GRAY)\n",
    "img2_gray = cv2.cvtColor(img2, cv2.COLOR_BGR2GRAY)\n",
    "\n",
    "mask = np.zeros_like(img1_gray)"
   ]
  },
  {
   "cell_type": "code",
   "execution_count": 4,
   "metadata": {
    "colab": {
     "base_uri": "https://localhost:8080/"
    },
    "id": "56wLcaNj5UTb",
    "outputId": "c7ae585e-994d-4aa7-eecf-a80b657777d5"
   },
   "outputs": [
    {
     "name": "stdout",
     "output_type": "stream",
     "text": [
      "--2021-07-05 16:20:25--  https://github.com/JeffTrain/selfie/raw/master/shape_predictor_68_face_landmarks.dat\r\n"
     ]
    },
    {
     "name": "stdout",
     "output_type": "stream",
     "text": [
      "Loaded CA certificate '/etc/ssl/certs/ca-certificates.crt'\r\n",
      "Resolving github.com (github.com)... 140.82.121.4\r\n",
      "Connecting to github.com (github.com)|140.82.121.4|:443... "
     ]
    },
    {
     "name": "stdout",
     "output_type": "stream",
     "text": [
      "connected.\r\n"
     ]
    },
    {
     "name": "stdout",
     "output_type": "stream",
     "text": [
      "HTTP request sent, awaiting response... "
     ]
    },
    {
     "name": "stdout",
     "output_type": "stream",
     "text": [
      "302 Found\r\n",
      "Location: https://raw.githubusercontent.com/JeffTrain/selfie/master/shape_predictor_68_face_landmarks.dat [following]\r\n",
      "--2021-07-05 16:20:25--  https://raw.githubusercontent.com/JeffTrain/selfie/master/shape_predictor_68_face_landmarks.dat\r\n",
      "Resolving raw.githubusercontent.com (raw.githubusercontent.com)... "
     ]
    },
    {
     "name": "stdout",
     "output_type": "stream",
     "text": [
      "185.199.108.133, 185.199.109.133, 185.199.111.133, ...\r\n",
      "Connecting to raw.githubusercontent.com (raw.githubusercontent.com)|185.199.108.133|:443... "
     ]
    },
    {
     "name": "stdout",
     "output_type": "stream",
     "text": [
      "connected.\r\n"
     ]
    },
    {
     "name": "stdout",
     "output_type": "stream",
     "text": [
      "HTTP request sent, awaiting response... "
     ]
    },
    {
     "name": "stdout",
     "output_type": "stream",
     "text": [
      "200 OK\r\n",
      "Length: 99693937 (95M) [application/octet-stream]\r\n",
      "Saving to: 'shape_predictor_68_face_landmarks.dat'\r\n",
      "\r\n",
      "\r",
      "          shape_pre   0%[                    ]       0  --.-KB/s               "
     ]
    },
    {
     "name": "stdout",
     "output_type": "stream",
     "text": [
      "\r",
      "         shape_pred   0%[                    ] 458.88K  2.13MB/s               "
     ]
    },
    {
     "name": "stdout",
     "output_type": "stream",
     "text": [
      "\r",
      "        shape_predi   1%[                    ]   1.04M  2.39MB/s               "
     ]
    },
    {
     "name": "stdout",
     "output_type": "stream",
     "text": [
      "\r",
      "       shape_predic   1%[                    ]   1.67M  2.60MB/s               "
     ]
    },
    {
     "name": "stdout",
     "output_type": "stream",
     "text": [
      "\r",
      "      shape_predict   2%[                    ]   2.17M  2.58MB/s               "
     ]
    },
    {
     "name": "stdout",
     "output_type": "stream",
     "text": [
      "\r",
      "     shape_predicto   2%[                    ]   2.56M  2.43MB/s               "
     ]
    },
    {
     "name": "stdout",
     "output_type": "stream",
     "text": [
      "\r",
      "    shape_predictor   3%[                    ]   2.99M  2.38MB/s               "
     ]
    },
    {
     "name": "stdout",
     "output_type": "stream",
     "text": [
      "\r",
      "   shape_predictor_   3%[                    ]   3.62M  2.48MB/s               "
     ]
    },
    {
     "name": "stdout",
     "output_type": "stream",
     "text": [
      "\r",
      "  shape_predictor_6   4%[                    ]   4.23M  2.53MB/s               "
     ]
    },
    {
     "name": "stdout",
     "output_type": "stream",
     "text": [
      "\r",
      " shape_predictor_68   5%[>                   ]   4.87M  2.59MB/s               "
     ]
    },
    {
     "name": "stdout",
     "output_type": "stream",
     "text": [
      "\r",
      "shape_predictor_68_   5%[>                   ]   5.60M  2.67MB/s               "
     ]
    },
    {
     "name": "stdout",
     "output_type": "stream",
     "text": [
      "\r",
      "hape_predictor_68_f   6%[>                   ]   6.32M  2.72MB/s               "
     ]
    },
    {
     "name": "stdout",
     "output_type": "stream",
     "text": [
      "\r",
      "ape_predictor_68_fa   7%[>                   ]   6.99M  2.77MB/s               "
     ]
    },
    {
     "name": "stdout",
     "output_type": "stream",
     "text": [
      "\r",
      "pe_predictor_68_fac   8%[>                   ]   7.68M  2.80MB/s               "
     ]
    },
    {
     "name": "stdout",
     "output_type": "stream",
     "text": [
      "\r",
      "e_predictor_68_face   8%[>                   ]   8.42M  2.86MB/s               "
     ]
    },
    {
     "name": "stdout",
     "output_type": "stream",
     "text": [
      "\r",
      "_predictor_68_face_   9%[>                   ]   9.03M  2.87MB/s    eta 30s    "
     ]
    },
    {
     "name": "stdout",
     "output_type": "stream",
     "text": [
      "\r",
      "predictor_68_face_l  10%[=>                  ]   9.74M  2.94MB/s    eta 30s    "
     ]
    },
    {
     "name": "stdout",
     "output_type": "stream",
     "text": [
      "\r",
      "redictor_68_face_la  10%[=>                  ]  10.40M  3.00MB/s    eta 30s    "
     ]
    },
    {
     "name": "stdout",
     "output_type": "stream",
     "text": [
      "\r",
      "edictor_68_face_lan  11%[=>                  ]  11.15M  3.03MB/s    eta 30s    "
     ]
    },
    {
     "name": "stdout",
     "output_type": "stream",
     "text": [
      "\r",
      "dictor_68_face_land  12%[=>                  ]  11.80M  3.09MB/s    eta 30s    "
     ]
    },
    {
     "name": "stdout",
     "output_type": "stream",
     "text": [
      "\r",
      "ictor_68_face_landm  13%[=>                  ]  12.43M  3.14MB/s    eta 28s    "
     ]
    },
    {
     "name": "stdout",
     "output_type": "stream",
     "text": [
      "\r",
      "ctor_68_face_landma  13%[=>                  ]  13.03M  3.20MB/s    eta 28s    "
     ]
    },
    {
     "name": "stdout",
     "output_type": "stream",
     "text": [
      "\r",
      "tor_68_face_landmar  14%[=>                  ]  13.74M  3.22MB/s    eta 28s    "
     ]
    },
    {
     "name": "stdout",
     "output_type": "stream",
     "text": [
      "\r",
      "or_68_face_landmark  15%[==>                 ]  14.48M  3.25MB/s    eta 28s    "
     ]
    },
    {
     "name": "stdout",
     "output_type": "stream",
     "text": [
      "\r",
      "r_68_face_landmarks  15%[==>                 ]  15.15M  3.25MB/s    eta 28s    "
     ]
    },
    {
     "name": "stdout",
     "output_type": "stream",
     "text": [
      "\r",
      "_68_face_landmarks.  16%[==>                 ]  15.88M  3.26MB/s    eta 26s    "
     ]
    },
    {
     "name": "stdout",
     "output_type": "stream",
     "text": [
      "\r",
      "68_face_landmarks.d  17%[==>                 ]  16.57M  3.27MB/s    eta 26s    "
     ]
    },
    {
     "name": "stdout",
     "output_type": "stream",
     "text": [
      "\r",
      "8_face_landmarks.da  18%[==>                 ]  17.35M  3.31MB/s    eta 26s    "
     ]
    },
    {
     "name": "stdout",
     "output_type": "stream",
     "text": [
      "\r",
      "_face_landmarks.dat  19%[==>                 ]  18.07M  3.33MB/s    eta 26s    "
     ]
    },
    {
     "name": "stdout",
     "output_type": "stream",
     "text": [
      "\r",
      "face_landmarks.dat   19%[==>                 ]  18.84M  3.36MB/s    eta 26s    "
     ]
    },
    {
     "name": "stdout",
     "output_type": "stream",
     "text": [
      "\r",
      "ace_landmarks.dat    20%[===>                ]  19.60M  3.37MB/s    eta 24s    "
     ]
    },
    {
     "name": "stdout",
     "output_type": "stream",
     "text": [
      "\r",
      "ce_landmarks.dat     21%[===>                ]  20.17M  3.33MB/s    eta 24s    "
     ]
    },
    {
     "name": "stdout",
     "output_type": "stream",
     "text": [
      "\r",
      "e_landmarks.dat      21%[===>                ]  20.90M  3.31MB/s    eta 24s    "
     ]
    },
    {
     "name": "stdout",
     "output_type": "stream",
     "text": [
      "\r",
      "_landmarks.dat       22%[===>                ]  21.59M  3.31MB/s    eta 24s    "
     ]
    },
    {
     "name": "stdout",
     "output_type": "stream",
     "text": [
      "\r",
      "landmarks.dat        23%[===>                ]  22.24M  3.28MB/s    eta 24s    "
     ]
    },
    {
     "name": "stdout",
     "output_type": "stream",
     "text": [
      "\r",
      "andmarks.dat         24%[===>                ]  22.85M  3.27MB/s    eta 23s    "
     ]
    },
    {
     "name": "stdout",
     "output_type": "stream",
     "text": [
      "\r",
      "ndmarks.dat          24%[===>                ]  23.65M  3.31MB/s    eta 23s    "
     ]
    },
    {
     "name": "stdout",
     "output_type": "stream",
     "text": [
      "\r",
      "dmarks.dat           25%[====>               ]  24.40M  3.35MB/s    eta 23s    "
     ]
    },
    {
     "name": "stdout",
     "output_type": "stream",
     "text": [
      "\r",
      "marks.dat            26%[====>               ]  25.13M  3.39MB/s    eta 23s    "
     ]
    },
    {
     "name": "stdout",
     "output_type": "stream",
     "text": [
      "\r",
      "arks.dat             27%[====>               ]  25.88M  3.40MB/s    eta 23s    "
     ]
    },
    {
     "name": "stdout",
     "output_type": "stream",
     "text": [
      "\r",
      "rks.dat              27%[====>               ]  26.46M  3.34MB/s    eta 22s    "
     ]
    },
    {
     "name": "stdout",
     "output_type": "stream",
     "text": [
      "\r",
      "ks.dat               28%[====>               ]  27.12M  3.32MB/s    eta 22s    "
     ]
    },
    {
     "name": "stdout",
     "output_type": "stream",
     "text": [
      "\r",
      "s.dat                29%[====>               ]  27.73M  3.27MB/s    eta 22s    "
     ]
    },
    {
     "name": "stdout",
     "output_type": "stream",
     "text": [
      "\r",
      ".dat                 29%[====>               ]  28.40M  3.25MB/s    eta 22s    "
     ]
    },
    {
     "name": "stdout",
     "output_type": "stream",
     "text": [
      "\r",
      "dat                  30%[=====>              ]  29.10M  3.25MB/s    eta 22s    "
     ]
    },
    {
     "name": "stdout",
     "output_type": "stream",
     "text": [
      "\r",
      "at                   31%[=====>              ]  29.87M  3.26MB/s    eta 21s    "
     ]
    },
    {
     "name": "stdout",
     "output_type": "stream",
     "text": [
      "\r",
      "t                    32%[=====>              ]  30.54M  3.28MB/s    eta 21s    "
     ]
    },
    {
     "name": "stdout",
     "output_type": "stream",
     "text": [
      "\r",
      "                     32%[=====>              ]  31.23M  3.29MB/s    eta 21s    "
     ]
    },
    {
     "name": "stdout",
     "output_type": "stream",
     "text": [
      "\r",
      "                  s  33%[=====>              ]  31.85M  3.28MB/s    eta 21s    "
     ]
    },
    {
     "name": "stdout",
     "output_type": "stream",
     "text": [
      "\r",
      "                 sh  34%[=====>              ]  32.37M  3.24MB/s    eta 21s    "
     ]
    },
    {
     "name": "stdout",
     "output_type": "stream",
     "text": [
      "\r",
      "                sha  34%[=====>              ]  32.46M  3.03MB/s    eta 20s    "
     ]
    },
    {
     "name": "stdout",
     "output_type": "stream",
     "text": [
      "\r",
      "               shap  34%[=====>              ]  33.09M  3.02MB/s    eta 20s    "
     ]
    },
    {
     "name": "stdout",
     "output_type": "stream",
     "text": [
      "\r",
      "              shape  35%[======>             ]  33.70M  2.96MB/s    eta 20s    "
     ]
    },
    {
     "name": "stdout",
     "output_type": "stream",
     "text": [
      "\r",
      "             shape_  36%[======>             ]  34.31M  2.91MB/s    eta 20s    "
     ]
    },
    {
     "name": "stdout",
     "output_type": "stream",
     "text": [
      "\r",
      "            shape_p  36%[======>             ]  35.07M  2.93MB/s    eta 20s    "
     ]
    },
    {
     "name": "stdout",
     "output_type": "stream",
     "text": [
      "\r",
      "           shape_pr  37%[======>             ]  35.79M  2.96MB/s    eta 19s    "
     ]
    },
    {
     "name": "stdout",
     "output_type": "stream",
     "text": [
      "\r",
      "          shape_pre  38%[======>             ]  36.57M  3.02MB/s    eta 19s    "
     ]
    },
    {
     "name": "stdout",
     "output_type": "stream",
     "text": [
      "\r",
      "         shape_pred  39%[======>             ]  37.29M  3.04MB/s    eta 19s    "
     ]
    },
    {
     "name": "stdout",
     "output_type": "stream",
     "text": [
      "\r",
      "        shape_predi  40%[=======>            ]  38.07M  3.06MB/s    eta 19s    "
     ]
    },
    {
     "name": "stdout",
     "output_type": "stream",
     "text": [
      "\r",
      "       shape_predic  40%[=======>            ]  38.74M  3.07MB/s    eta 19s    "
     ]
    },
    {
     "name": "stdout",
     "output_type": "stream",
     "text": [
      "\r",
      "      shape_predict  41%[=======>            ]  39.38M  3.08MB/s    eta 18s    "
     ]
    },
    {
     "name": "stdout",
     "output_type": "stream",
     "text": [
      "\r",
      "     shape_predicto  42%[=======>            ]  40.09M  3.04MB/s    eta 18s    "
     ]
    },
    {
     "name": "stdout",
     "output_type": "stream",
     "text": [
      "\r",
      "    shape_predictor  42%[=======>            ]  40.76M  3.03MB/s    eta 18s    "
     ]
    },
    {
     "name": "stdout",
     "output_type": "stream",
     "text": [
      "\r",
      "   shape_predictor_  43%[=======>            ]  41.35M  3.01MB/s    eta 18s    "
     ]
    },
    {
     "name": "stdout",
     "output_type": "stream",
     "text": [
      "\r",
      "  shape_predictor_6  44%[=======>            ]  42.04M  3.04MB/s    eta 18s    "
     ]
    },
    {
     "name": "stdout",
     "output_type": "stream",
     "text": [
      "\r",
      " shape_predictor_68  44%[=======>            ]  42.70M  3.22MB/s    eta 17s    "
     ]
    },
    {
     "name": "stdout",
     "output_type": "stream",
     "text": [
      "\r",
      "shape_predictor_68_  45%[========>           ]  43.38M  3.31MB/s    eta 17s    "
     ]
    },
    {
     "name": "stdout",
     "output_type": "stream",
     "text": [
      "\r",
      "hape_predictor_68_f  46%[========>           ]  44.18M  3.35MB/s    eta 17s    "
     ]
    },
    {
     "name": "stdout",
     "output_type": "stream",
     "text": [
      "\r",
      "ape_predictor_68_fa  47%[========>           ]  44.99M  3.44MB/s    eta 17s    "
     ]
    },
    {
     "name": "stdout",
     "output_type": "stream",
     "text": [
      "\r",
      "pe_predictor_68_fac  48%[========>           ]  45.70M  3.41MB/s    eta 17s    "
     ]
    },
    {
     "name": "stdout",
     "output_type": "stream",
     "text": [
      "\r",
      "e_predictor_68_face  48%[========>           ]  46.42M  3.40MB/s    eta 15s    "
     ]
    },
    {
     "name": "stdout",
     "output_type": "stream",
     "text": [
      "\r",
      "_predictor_68_face_  49%[========>           ]  47.13M  3.38MB/s    eta 15s    "
     ]
    },
    {
     "name": "stdout",
     "output_type": "stream",
     "text": [
      "\r",
      "predictor_68_face_l  50%[=========>          ]  47.62M  3.29MB/s    eta 15s    "
     ]
    },
    {
     "name": "stdout",
     "output_type": "stream",
     "text": [
      "\r",
      "redictor_68_face_la  50%[=========>          ]  48.28M  3.28MB/s    eta 15s    "
     ]
    },
    {
     "name": "stdout",
     "output_type": "stream",
     "text": [
      "\r",
      "edictor_68_face_lan  51%[=========>          ]  48.73M  3.19MB/s    eta 15s    "
     ]
    },
    {
     "name": "stdout",
     "output_type": "stream",
     "text": [
      "\r",
      "dictor_68_face_land  51%[=========>          ]  49.24M  3.13MB/s    eta 15s    "
     ]
    },
    {
     "name": "stdout",
     "output_type": "stream",
     "text": [
      "\r",
      "ictor_68_face_landm  52%[=========>          ]  49.87M  3.12MB/s    eta 15s    "
     ]
    },
    {
     "name": "stdout",
     "output_type": "stream",
     "text": [
      "\r",
      "ctor_68_face_landma  53%[=========>          ]  50.49M  3.12MB/s    eta 15s    "
     ]
    },
    {
     "name": "stdout",
     "output_type": "stream",
     "text": [
      "\r",
      "tor_68_face_landmar  53%[=========>          ]  50.92M  3.03MB/s    eta 15s    "
     ]
    },
    {
     "name": "stdout",
     "output_type": "stream",
     "text": [
      "\r",
      "or_68_face_landmark  54%[=========>          ]  51.49M  3.04MB/s    eta 15s    "
     ]
    },
    {
     "name": "stdout",
     "output_type": "stream",
     "text": [
      "\r",
      "r_68_face_landmarks  54%[=========>          ]  52.07M  3.00MB/s    eta 14s    "
     ]
    },
    {
     "name": "stdout",
     "output_type": "stream",
     "text": [
      "\r",
      "_68_face_landmarks.  55%[==========>         ]  52.67M  2.98MB/s    eta 14s    "
     ]
    },
    {
     "name": "stdout",
     "output_type": "stream",
     "text": [
      "\r",
      "68_face_landmarks.d  55%[==========>         ]  53.13M  2.87MB/s    eta 14s    "
     ]
    },
    {
     "name": "stdout",
     "output_type": "stream",
     "text": [
      "\r",
      "8_face_landmarks.da  56%[==========>         ]  53.76M  2.83MB/s    eta 14s    "
     ]
    },
    {
     "name": "stdout",
     "output_type": "stream",
     "text": [
      "\r",
      "_face_landmarks.dat  57%[==========>         ]  54.26M  2.76MB/s    eta 14s    "
     ]
    },
    {
     "name": "stdout",
     "output_type": "stream",
     "text": [
      "\r",
      "face_landmarks.dat   57%[==========>         ]  54.96M  2.78MB/s    eta 13s    "
     ]
    },
    {
     "name": "stdout",
     "output_type": "stream",
     "text": [
      "\r",
      "ace_landmarks.dat    58%[==========>         ]  55.54M  2.71MB/s    eta 13s    "
     ]
    },
    {
     "name": "stdout",
     "output_type": "stream",
     "text": [
      "\r",
      "ce_landmarks.dat     58%[==========>         ]  56.07M  2.72MB/s    eta 13s    "
     ]
    },
    {
     "name": "stdout",
     "output_type": "stream",
     "text": [
      "\r",
      "e_landmarks.dat      59%[==========>         ]  56.42M  2.62MB/s    eta 13s    "
     ]
    },
    {
     "name": "stdout",
     "output_type": "stream",
     "text": [
      "\r",
      "_landmarks.dat       59%[==========>         ]  56.93M  2.64MB/s    eta 13s    "
     ]
    },
    {
     "name": "stdout",
     "output_type": "stream",
     "text": [
      "\r",
      "landmarks.dat        60%[===========>        ]  57.56M  2.68MB/s    eta 12s    "
     ]
    },
    {
     "name": "stdout",
     "output_type": "stream",
     "text": [
      "\r",
      "andmarks.dat         61%[===========>        ]  58.10M  2.65MB/s    eta 12s    "
     ]
    },
    {
     "name": "stdout",
     "output_type": "stream",
     "text": [
      "\r",
      "ndmarks.dat          61%[===========>        ]  58.68M  2.62MB/s    eta 12s    "
     ]
    },
    {
     "name": "stdout",
     "output_type": "stream",
     "text": [
      "\r",
      "dmarks.dat           62%[===========>        ]  59.26M  2.64MB/s    eta 12s    "
     ]
    },
    {
     "name": "stdout",
     "output_type": "stream",
     "text": [
      "\r",
      "marks.dat            62%[===========>        ]  59.45M  2.56MB/s    eta 12s    "
     ]
    },
    {
     "name": "stdout",
     "output_type": "stream",
     "text": [
      "\r",
      "arks.dat             63%[===========>        ]  59.95M  2.52MB/s    eta 12s    "
     ]
    },
    {
     "name": "stdout",
     "output_type": "stream",
     "text": [
      "\r",
      "rks.dat              63%[===========>        ]  60.73M  2.59MB/s    eta 12s    "
     ]
    },
    {
     "name": "stdout",
     "output_type": "stream",
     "text": [
      "\r",
      "ks.dat               64%[===========>        ]  61.37M  2.64MB/s    eta 12s    "
     ]
    },
    {
     "name": "stdout",
     "output_type": "stream",
     "text": [
      "\r",
      "s.dat                65%[============>       ]  62.04M  2.67MB/s    eta 12s    "
     ]
    },
    {
     "name": "stdout",
     "output_type": "stream",
     "text": [
      "\r",
      ".dat                 65%[============>       ]  62.65M  2.67MB/s    eta 12s    "
     ]
    },
    {
     "name": "stdout",
     "output_type": "stream",
     "text": [
      "\r",
      "dat                  66%[============>       ]  63.34M  2.70MB/s    eta 10s    "
     ]
    },
    {
     "name": "stdout",
     "output_type": "stream",
     "text": [
      "\r",
      "at                   67%[============>       ]  63.92M  2.68MB/s    eta 10s    "
     ]
    },
    {
     "name": "stdout",
     "output_type": "stream",
     "text": [
      "\r",
      "t                    67%[============>       ]  64.45M  2.67MB/s    eta 10s    "
     ]
    },
    {
     "name": "stdout",
     "output_type": "stream",
     "text": [
      "\r",
      "                     68%[============>       ]  64.99M  2.70MB/s    eta 10s    "
     ]
    },
    {
     "name": "stdout",
     "output_type": "stream",
     "text": [
      "\r",
      "                  s  68%[============>       ]  65.46M  2.70MB/s    eta 10s    "
     ]
    },
    {
     "name": "stdout",
     "output_type": "stream",
     "text": [
      "\r",
      "                 sh  69%[============>       ]  66.07M  2.73MB/s    eta 10s    "
     ]
    },
    {
     "name": "stdout",
     "output_type": "stream",
     "text": [
      "\r",
      "                sha  70%[=============>      ]  66.84M  2.80MB/s    eta 10s    "
     ]
    },
    {
     "name": "stdout",
     "output_type": "stream",
     "text": [
      "\r",
      "               shap  71%[=============>      ]  67.62M  2.87MB/s    eta 10s    "
     ]
    },
    {
     "name": "stdout",
     "output_type": "stream",
     "text": [
      "\r",
      "              shape  72%[=============>      ]  68.48M  2.96MB/s    eta 10s    "
     ]
    },
    {
     "name": "stdout",
     "output_type": "stream",
     "text": [
      "\r",
      "             shape_  72%[=============>      ]  69.21M  3.09MB/s    eta 10s    "
     ]
    },
    {
     "name": "stdout",
     "output_type": "stream",
     "text": [
      "\r",
      "            shape_p  73%[=============>      ]  69.96M  3.22MB/s    eta 8s     "
     ]
    },
    {
     "name": "stdout",
     "output_type": "stream",
     "text": [
      "\r",
      "           shape_pr  74%[=============>      ]  70.79M  3.29MB/s    eta 8s     "
     ]
    },
    {
     "name": "stdout",
     "output_type": "stream",
     "text": [
      "\r",
      "          shape_pre  75%[==============>     ]  71.35M  3.22MB/s    eta 8s     "
     ]
    },
    {
     "name": "stdout",
     "output_type": "stream",
     "text": [
      "\r",
      "         shape_pred  75%[==============>     ]  71.90M  3.18MB/s    eta 8s     "
     ]
    },
    {
     "name": "stdout",
     "output_type": "stream",
     "text": [
      "\r",
      "        shape_predi  76%[==============>     ]  72.68M  3.23MB/s    eta 8s     "
     ]
    },
    {
     "name": "stdout",
     "output_type": "stream",
     "text": [
      "\r",
      "       shape_predic  77%[==============>     ]  73.28M  3.21MB/s    eta 7s     "
     ]
    },
    {
     "name": "stdout",
     "output_type": "stream",
     "text": [
      "\r",
      "      shape_predict  77%[==============>     ]  73.82M  3.19MB/s    eta 7s     "
     ]
    },
    {
     "name": "stdout",
     "output_type": "stream",
     "text": [
      "\r",
      "     shape_predicto  78%[==============>     ]  74.40M  3.17MB/s    eta 7s     "
     ]
    },
    {
     "name": "stdout",
     "output_type": "stream",
     "text": [
      "\r",
      "    shape_predictor  78%[==============>     ]  74.99M  3.20MB/s    eta 7s     "
     ]
    },
    {
     "name": "stdout",
     "output_type": "stream",
     "text": [
      "\r",
      "   shape_predictor_  79%[==============>     ]  75.63M  3.24MB/s    eta 7s     "
     ]
    },
    {
     "name": "stdout",
     "output_type": "stream",
     "text": [
      "\r",
      "  shape_predictor_6  80%[===============>    ]  76.09M  3.19MB/s    eta 6s     "
     ]
    },
    {
     "name": "stdout",
     "output_type": "stream",
     "text": [
      "\r",
      " shape_predictor_68  80%[===============>    ]  76.54M  3.12MB/s    eta 6s     "
     ]
    },
    {
     "name": "stdout",
     "output_type": "stream",
     "text": [
      "^C\r\n"
     ]
    }
   ],
   "source": [
    "!wget -nd https://github.com/JeffTrain/selfie/raw/master/shape_predictor_68_face_landmarks.dat;"
   ]
  },
  {
   "cell_type": "code",
   "execution_count": 6,
   "metadata": {
    "id": "8mYdQr5c5CiR"
   },
   "outputs": [],
   "source": [
    "detector = dlib.get_frontal_face_detector()\n",
    "predictor = dlib.shape_predictor(\"shape_predictor_68_face_landmarks.dat\")"
   ]
  },
  {
   "cell_type": "code",
   "execution_count": 7,
   "metadata": {
    "id": "xa1c-5ti5m3J"
   },
   "outputs": [],
   "source": [
    "faces = detector(img1_gray)\n",
    "for face in faces:\n",
    "    landmarks = predictor(img1_gray, face)\n",
    "    landmarks_points1 = []\n",
    "    for n in range(0, 68):\n",
    "        x = landmarks.part(n).x\n",
    "        y = landmarks.part(n).y\n",
    "        landmarks_points1.append((x, y))\n",
    "\n",
    "    points = np.array(landmarks_points1, np.int32)\n",
    "    convexhull = cv2.convexHull(points)\n",
    "    cv2.fillConvexPoly(mask, convexhull, 255)\n",
    "\n",
    "    rect = cv2.boundingRect(convexhull)\n",
    "    subdiv = cv2.Subdiv2D(rect)\n",
    "    subdiv.insert(landmarks_points1)\n",
    "    triangles = subdiv.getTriangleList()\n",
    "    triangles = np.array(triangles, dtype=np.int32)\n",
    "\n",
    "    indexes_triangles = []\n",
    "    for t in triangles:\n",
    "        pt1 = t[0], t[1]\n",
    "        pt2 = t[2], t[3]\n",
    "        pt3 = t[4], t[5]\n",
    "\n",
    "        index_pt1 = np.where((points == pt1).all(axis=1))\n",
    "        index_pt1 = extract_index_nparray(index_pt1)\n",
    "\n",
    "        index_pt2 = np.where((points == pt2).all(axis=1))\n",
    "        index_pt2 = extract_index_nparray(index_pt2)\n",
    "\n",
    "        index_pt3 = np.where((points == pt3).all(axis=1))\n",
    "        index_pt3 = extract_index_nparray(index_pt3)\n",
    "\n",
    "        if index_pt1 is not None and index_pt2 is not None and index_pt3 is not None:\n",
    "            triangle = [index_pt1, index_pt2, index_pt3]\n",
    "            indexes_triangles.append(triangle)"
   ]
  },
  {
   "cell_type": "code",
   "execution_count": 8,
   "metadata": {
    "id": "HEd38qRe5oVp"
   },
   "outputs": [],
   "source": [
    "faces2 = detector(img2_gray)\n",
    "for face in faces2:\n",
    "    landmarks = predictor(img2_gray, face)\n",
    "    landmarks_points2 = []\n",
    "    for n in range(0, 68):\n",
    "        x = landmarks.part(n).x\n",
    "        y = landmarks.part(n).y\n",
    "        landmarks_points2.append((x, y))"
   ]
  },
  {
   "cell_type": "code",
   "execution_count": 9,
   "metadata": {
    "id": "s768Oo0f5uaU"
   },
   "outputs": [],
   "source": [
    "img2_new_face = np.zeros((1024, 768, 3), np.uint8)\n",
    "\n",
    "for triangle_index in indexes_triangles:\n",
    "    pt1_1 = landmarks_points1[triangle_index[0]]\n",
    "    pt2_1 = landmarks_points1[triangle_index[1]]\n",
    "    pt3_1 = landmarks_points1[triangle_index[2]]\n",
    "\n",
    "    tr1 = np.array([pt1_1, pt2_1, pt3_1], np.int32)\n",
    "    rect1 = cv2.boundingRect(tr1)\n",
    "    x, y, w, h = rect1\n",
    "    cropped_triangle1 = img1[y: y + h, x: x + w]\n",
    "    cropped_tr1_mask = np.zeros((h, w), np.uint8)\n",
    "\n",
    "    points1 = np.array([[pt1_1[0] - x, pt1_1[1] - y], [pt2_1[0] - x, pt2_1[1] - y], [pt3_1[0] - x, pt3_1[1] - y]],\n",
    "                       np.int32)\n",
    "    cv2.fillConvexPoly(cropped_tr1_mask, points1, 255)\n",
    "    cropped_triangle1 = cv2.bitwise_and(cropped_triangle1, cropped_triangle1, mask=cropped_tr1_mask)\n",
    "\n",
    "    pt1_2 = landmarks_points2[triangle_index[0]]\n",
    "    pt2_2 = landmarks_points2[triangle_index[1]]\n",
    "    pt3_2 = landmarks_points2[triangle_index[2]]\n",
    "\n",
    "    tr2 = np.array([pt1_2, pt2_2, pt3_2], np.int32)\n",
    "    rect2 = cv2.boundingRect(tr2)\n",
    "    x, y, w, h = rect2\n",
    "    cropped_triangle2 = img2[y: y + h, x: x + w]\n",
    "    cropped_tr2_mask = np.zeros((h, w), np.uint8)\n",
    "\n",
    "    points2 = np.array([[pt1_2[0] - x, pt1_2[1] - y], [pt2_2[0] - x, pt2_2[1] - y], [pt3_2[0] - x, pt3_2[1] - y]],\n",
    "                       np.int32)\n",
    "    cv2.fillConvexPoly(cropped_tr2_mask, points2, 255)\n",
    "    cropped_triangle2 = cv2.bitwise_and(cropped_triangle2, cropped_triangle2, mask=cropped_tr2_mask)\n",
    "\n",
    "    points1 = np.float32(points1)\n",
    "    points2 = np.float32(points2)\n",
    "\n",
    "    M = cv2.getAffineTransform(points1, points2)\n",
    "\n",
    "    warped_triangle = cv2.warpAffine(cropped_triangle1, M, (w, h))\n",
    "    warped_triangle = cv2.bitwise_and(warped_triangle, warped_triangle, mask=cropped_tr2_mask)\n",
    "\n",
    "    img2_new_face_rect_area = img2_new_face[y: y + h, x: x + w]\n",
    "    img2_new_face_rect_area_gray = cv2.cvtColor(img2_new_face_rect_area, cv2.COLOR_BGR2GRAY)\n",
    "\n",
    "    # _, mask_triangles_designed = cv2.threshold(img2_new_face_rect_area_gray, 64, 255, cv2.THRESH_BINARY_INV)\n",
    "    # warped_triangle = cv2.bitwise_and(warped_triangle, warped_triangle, mask=mask_triangles_designed)\n",
    "\n",
    "    img2_new_face_rect_area = cv2.add(img2_new_face_rect_area, warped_triangle)\n",
    "    img2_new_face[y: y + h, x: x + w] = img2_new_face_rect_area"
   ]
  },
  {
   "cell_type": "code",
   "execution_count": 10,
   "metadata": {
    "id": "CwucbhNJ5w6Z"
   },
   "outputs": [],
   "source": [
    "convexhull2 = cv2.convexHull(np.array(landmarks_points2, np.int32))\n",
    "img2_face_mask = np.zeros_like(img2_gray)\n",
    "img2_head_mask = cv2.fillConvexPoly(img2_face_mask, convexhull2, 255)\n",
    "\n",
    "img2_face_mask = cv2.bitwise_not(img2_head_mask)\n",
    "img2_head_noface = cv2.bitwise_and(img2, img2, mask=img2_face_mask)\n",
    "\n",
    "result = cv2.add(img2_head_noface, img2_new_face)"
   ]
  },
  {
   "cell_type": "code",
   "execution_count": 11,
   "metadata": {
    "id": "c2jbOmSN50ES"
   },
   "outputs": [],
   "source": [
    "x, y, w, h = cv2.boundingRect(convexhull2)\n",
    "center_face2 = int((x + x + w) / 2), int((y + y + h) / 2)\n",
    "seamlessclone = cv2.seamlessClone(result, img2, img2_head_mask, center_face2, cv2.MIXED_CLONE)"
   ]
  },
  {
   "cell_type": "code",
   "execution_count": 12,
   "metadata": {
    "colab": {
     "base_uri": "https://localhost:8080/",
     "height": 1000
    },
    "id": "LwmUz0Yw57MG",
    "outputId": "9b90d11e-32fb-4a50-9166-7410d0c77cce"
   },
   "outputs": [],
   "source": [
    "cv2.imshow(\"End result\", seamlessclone)"
   ]
  }
 ],
 "metadata": {
  "colab": {
   "collapsed_sections": [],
   "name": "face_swapping_code.ipynb",
   "provenance": []
  },
  "kernelspec": {
   "display_name": "face-recognition-project",
   "language": "python",
   "name": "face-recognition-project"
  },
  "language_info": {
   "codemirror_mode": {
    "name": "ipython",
    "version": 3
   },
   "file_extension": ".py",
   "mimetype": "text/x-python",
   "name": "python",
   "nbconvert_exporter": "python",
   "pygments_lexer": "ipython3",
   "version": "3.9.5"
  }
 },
 "nbformat": 4,
 "nbformat_minor": 1
}